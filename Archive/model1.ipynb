{
 "cells": [
  {
   "cell_type": "code",
   "execution_count": 1,
   "metadata": {},
   "outputs": [],
   "source": [
    "# this is the total number of images \n",
    "Train_no = 33402"
   ]
  },
  {
   "cell_type": "code",
   "execution_count": 2,
   "metadata": {},
   "outputs": [
    {
     "name": "stderr",
     "output_type": "stream",
     "text": [
      "C:\\Anaconda3\\envs\\dlenv\\lib\\site-packages\\ipykernel_launcher.py:18: DeprecationWarning: `imread` is deprecated!\n",
      "`imread` is deprecated in SciPy 1.0.0, and will be removed in 1.2.0.\n",
      "Use ``imageio.imread`` instead.\n"
     ]
    }
   ],
   "source": [
    "#This is to read the image from file into python\n",
    "from scipy import misc\n",
    "import glob\n",
    "import numpy as np\n",
    "from sklearn.decomposition import PCA\n",
    "import matplotlib.pyplot as plt\n",
    "import matplotlib.image as mpimg\n",
    "\n",
    "X_train=[]\n",
    "directory = \"C:\\\\Users\\\\Mert Ketenci\\\\Desktop\\\\train\\\\train\\\\\"\n",
    "img_type=\".png\"\n",
    "#33402\n",
    "for i in range(1,Train_no):\n",
    "    image_name=[i,img_type]\n",
    "    values = ''.join(str(v) for v in image_name)\n",
    "    folder=[directory,values] \n",
    "    folder=''.join(folder)\n",
    "    image = misc.imread(folder)\n",
    "    X_train.append(image)\n"
   ]
  },
  {
   "cell_type": "code",
   "execution_count": 3,
   "metadata": {},
   "outputs": [],
   "source": [
    "#This is the function to get the blue box position\n",
    "def get_box_data(index, hdf5_data):\n",
    "    \"\"\"\n",
    "    get `left, top, width, height` of each picture\n",
    "    :param index:\n",
    "    :param hdf5_data:\n",
    "    :return:\n",
    "    \"\"\"\n",
    "    meta_data = dict()\n",
    "    meta_data['height'] = []\n",
    "    meta_data['label'] = []\n",
    "    meta_data['left'] = []\n",
    "    meta_data['top'] = []\n",
    "    meta_data['width'] = []\n",
    "\n",
    "    def print_attrs(name, obj):\n",
    "        vals = []\n",
    "        if obj.shape[0] == 1:\n",
    "            vals.append(obj[0][0])\n",
    "        else:\n",
    "            for k in range(obj.shape[0]):\n",
    "                vals.append(int(hdf5_data[obj[k][0]][0][0]))\n",
    "        meta_data[name] = vals\n",
    "\n",
    "    box = hdf5_data['/digitStruct/bbox'][index]\n",
    "    hdf5_data[box[0]].visititems(print_attrs)\n",
    "    return meta_data\n",
    "\n",
    "def get_name(index, hdf5_data):\n",
    "    name = hdf5_data['/digitStruct/name']\n",
    "    return ''.join([chr(v[0]) for v in hdf5_data[name[index][0]].value])"
   ]
  },
  {
   "cell_type": "code",
   "execution_count": 4,
   "metadata": {
    "scrolled": true
   },
   "outputs": [
    {
     "ename": "KeyboardInterrupt",
     "evalue": "",
     "output_type": "error",
     "traceback": [
      "\u001b[1;31m---------------------------------------------------------------------------\u001b[0m",
      "\u001b[1;31mKeyboardInterrupt\u001b[0m                         Traceback (most recent call last)",
      "\u001b[1;32m<ipython-input-4-5a694c62e3d9>\u001b[0m in \u001b[0;36m<module>\u001b[1;34m()\u001b[0m\n\u001b[0;32m     31\u001b[0m \u001b[1;33m\u001b[0m\u001b[0m\n\u001b[0;32m     32\u001b[0m     \u001b[1;31m#resize data and append\u001b[0m\u001b[1;33m\u001b[0m\u001b[1;33m\u001b[0m\u001b[0m\n\u001b[1;32m---> 33\u001b[1;33m     \u001b[0mres_Pic_crop\u001b[0m \u001b[1;33m=\u001b[0m \u001b[0mcv2\u001b[0m\u001b[1;33m.\u001b[0m\u001b[0mresize\u001b[0m\u001b[1;33m(\u001b[0m\u001b[0mPic_crop\u001b[0m\u001b[1;33m,\u001b[0m \u001b[0mdsize\u001b[0m\u001b[1;33m=\u001b[0m\u001b[1;33m(\u001b[0m\u001b[1;36m54\u001b[0m\u001b[1;33m,\u001b[0m \u001b[1;36m54\u001b[0m\u001b[1;33m)\u001b[0m\u001b[1;33m,\u001b[0m \u001b[0minterpolation\u001b[0m\u001b[1;33m=\u001b[0m\u001b[0mcv2\u001b[0m\u001b[1;33m.\u001b[0m\u001b[0mINTER_CUBIC\u001b[0m\u001b[1;33m)\u001b[0m\u001b[1;33m\u001b[0m\u001b[0m\n\u001b[0m\u001b[0;32m     34\u001b[0m     \u001b[0mPic_crop_Final\u001b[0m\u001b[1;33m.\u001b[0m\u001b[0mappend\u001b[0m\u001b[1;33m(\u001b[0m\u001b[0mres_Pic_crop\u001b[0m\u001b[1;33m)\u001b[0m\u001b[1;33m\u001b[0m\u001b[0m\n\u001b[0;32m     35\u001b[0m \u001b[1;33m\u001b[0m\u001b[0m\n",
      "\u001b[1;31mKeyboardInterrupt\u001b[0m: "
     ]
    }
   ],
   "source": [
    "# Run this cell will be able to provide you the cropped image in 54*54*3 format\n",
    "import h5py\n",
    "from tqdm import tqdm\n",
    "import matplotlib.pyplot as plt\n",
    "import cv2\n",
    "\n",
    "mat_data = h5py.File('C:\\\\Users\\\\Mert Ketenci\\\\Desktop\\\\train\\\\train\\\\digitStruct.mat')\n",
    "size = mat_data['/digitStruct/name'].size\n",
    "\n",
    "#print (box)\n",
    "label_Final = []\n",
    "Pic_crop_Final = []\n",
    "for i in range(Train_no-1):\n",
    "    Array = np.array(X_train[i])\n",
    "    pic = get_name(i, mat_data)\n",
    "    box = get_box_data(i, mat_data)\n",
    "    label = box['label']\n",
    "    label_Final.append(''.join(str(int(x%10)) for x in label))\n",
    "\n",
    "    #Increase location by 30%\n",
    "    \n",
    "    H = int(round((max(box['top'])+max(box['height'])) *1.03))\n",
    "    L = int(round (min(box['left']) *(0.97)))\n",
    "    if L<0:\n",
    "        L =0\n",
    "    T = int(round (min(box['top'])*(0.97)))\n",
    "    if T<0:\n",
    "        T = 0\n",
    "    W = int(round((max (box ['left'])+ max(box['width']))*1.03))\n",
    "    Pic_crop = Array [T:H,L:W]\n",
    "\n",
    "    #resize data and append\n",
    "    res_Pic_crop = cv2.resize(Pic_crop, dsize=(54, 54), interpolation=cv2.INTER_CUBIC)\n",
    "    Pic_crop_Final.append(res_Pic_crop)\n",
    "\n",
    "    "
   ]
  },
  {
   "cell_type": "code",
   "execution_count": null,
   "metadata": {
    "scrolled": true
   },
   "outputs": [],
   "source": [
    "#Reshape the data from 54,54,3 into 54*54*3, and convert both label and image into array\n",
    "import numpy as np\n",
    "c = []\n",
    "for i in range(Train_no-1):\n",
    "    a = np.reshape(Pic_crop_Final[i],54*54*3)\n",
    "    c.append(a)\n",
    "c = np.asarray(c)\n",
    "d = np.asarray(label_Final)\n",
    "\n"
   ]
  },
  {
   "cell_type": "code",
   "execution_count": null,
   "metadata": {},
   "outputs": [],
   "source": [
    "import six.moves.cPickle as pickle\n",
    "import os\n",
    "import sys\n",
    "import gzip\n",
    "\n",
    "#Please change this directory\n",
    "data_dir = 'C:\\\\Users\\\\Mert Ketenci\\\\Desktop\\\\train\\\\train\\\\'\n",
    "output_file = 'trainpkl.gz'\n",
    "out_path = os.path.join(data_dir, output_file)\n",
    "\n",
    "#create document format\n",
    "out = {}\n",
    "out['labels'] = d\n",
    "out['images'] = c\n",
    "\n",
    "#save data\n",
    "p = gzip.open(out_path, 'wb')\n",
    "pickle.dump(out, p)\n",
    "p.close()\n",
    "\n"
   ]
  },
  {
   "cell_type": "code",
   "execution_count": 7,
   "metadata": {
    "scrolled": true
   },
   "outputs": [],
   "source": [
    "#Read data file\n",
    "import six.moves.cPickle as pickle\n",
    "import os\n",
    "import sys\n",
    "import gzip\n",
    "data_dir = 'C:\\\\Users\\\\Mert Ketenci\\\\Desktop\\\\train\\\\train\\\\'\n",
    "output_file = 'trainpkl.gz'\n",
    "out_path = os.path.join(data_dir, output_file)\n",
    "f_test = gzip.open(out_path, 'rb')\n",
    "test_set = pickle.load(f_test)\n",
    "f_test.close()\n",
    "# print (test_set)"
   ]
  },
  {
   "cell_type": "code",
   "execution_count": 23,
   "metadata": {},
   "outputs": [
    {
     "name": "stdout",
     "output_type": "stream",
     "text": [
      "(33401, 8748)\n"
     ]
    }
   ],
   "source": [
    "# print the output\n",
    "print(test_set['images'].shape)"
   ]
  },
  {
   "cell_type": "code",
   "execution_count": 22,
   "metadata": {},
   "outputs": [
    {
     "data": {
      "text/plain": [
       "<matplotlib.image.AxesImage at 0x272af35dd30>"
      ]
     },
     "execution_count": 22,
     "metadata": {},
     "output_type": "execute_result"
    },
    {
     "data": {
      "image/png": "[encoded data removed]",
      "text/plain": [
       "<Figure size 432x288 with 1 Axes>"
      ]
     },
     "metadata": {
      "needs_background": "light"
     },
     "output_type": "display_data"
    }
   ],
   "source": [
    "plt.imshow(test_set[\"images\"][0].reshape(54,54,3))"
   ]
  },
  {
   "cell_type": "code",
   "execution_count": 24,
   "metadata": {},
   "outputs": [],
   "source": [
    "#Create labels and length vector\n",
    "label=[]\n",
    "length=[]\n",
    "for i in range(len(test_set[\"labels\"])):\n",
    "    label.append([int(x) for x in test_set[\"labels\"][i]])\n",
    "    length.append(len(label[-1]))"
   ]
  },
  {
   "cell_type": "code",
   "execution_count": 29,
   "metadata": {},
   "outputs": [],
   "source": [
    "#To one hot encoding\n",
    "thats_hot=np.zeros((Train_no-1,6,11), dtype=int)\n",
    "for i in range(Train_no-1):\n",
    "    for j in range(len(label[i])):\n",
    "        thats_hot[i][j][label[i][j]]=1\n",
    "        for j in range(len(label[i]),6):\n",
    "            thats_hot[i][j][10]=1"
   ]
  },
  {
   "cell_type": "code",
   "execution_count": 30,
   "metadata": {},
   "outputs": [],
   "source": [
    "#One hot encode length\n",
    "hot_length = np.zeros((len(length), 7),dtype=int)\n",
    "hot_length[np.arange(len(length),), length] = 1"
   ]
  },
  {
   "cell_type": "code",
   "execution_count": 31,
   "metadata": {},
   "outputs": [],
   "source": [
    "Pic_crop_Final = test_set[\"images\"].reshape(Train_no-1,54,54,3)"
   ]
  },
  {
   "cell_type": "code",
   "execution_count": 73,
   "metadata": {},
   "outputs": [],
   "source": [
    "Pic_crop_Final1=Pic_crop_Final[:20000]\n",
    "thats_hot1=thats_hot[:20000]\n",
    "hot_length1=hot_length[:20000]"
   ]
  },
  {
   "cell_type": "code",
   "execution_count": 232,
   "metadata": {},
   "outputs": [
    {
     "ename": "IndexError",
     "evalue": "list index out of range",
     "output_type": "error",
     "traceback": [
      "\u001b[1;31m---------------------------------------------------------------------------\u001b[0m",
      "\u001b[1;31mIndexError\u001b[0m                                Traceback (most recent call last)",
      "\u001b[1;32m<ipython-input-232-858b6c8e6a9d>\u001b[0m in \u001b[0;36m<module>\u001b[1;34m()\u001b[0m\n\u001b[0;32m    177\u001b[0m                 \u001b[0mdigit_pred\u001b[0m\u001b[1;33m=\u001b[0m\u001b[1;33m[\u001b[0m\u001b[1;33m]\u001b[0m\u001b[1;33m\u001b[0m\u001b[0m\n\u001b[0;32m    178\u001b[0m                 \u001b[1;32mfor\u001b[0m \u001b[0mj\u001b[0m \u001b[1;32min\u001b[0m \u001b[0mrange\u001b[0m\u001b[1;33m(\u001b[0m\u001b[0mlength_tf\u001b[0m\u001b[1;33m[\u001b[0m\u001b[0mi\u001b[0m\u001b[1;33m]\u001b[0m\u001b[1;33m)\u001b[0m\u001b[1;33m:\u001b[0m\u001b[1;33m\u001b[0m\u001b[0m\n\u001b[1;32m--> 179\u001b[1;33m                     \u001b[0mdigit_pred\u001b[0m\u001b[1;33m.\u001b[0m\u001b[0mappend\u001b[0m\u001b[1;33m(\u001b[0m\u001b[0mdigits\u001b[0m\u001b[1;33m[\u001b[0m\u001b[0mj\u001b[0m\u001b[1;33m]\u001b[0m\u001b[1;33m[\u001b[0m\u001b[0mi\u001b[0m\u001b[1;33m]\u001b[0m\u001b[1;33m)\u001b[0m\u001b[1;33m\u001b[0m\u001b[0m\n\u001b[0m\u001b[0;32m    180\u001b[0m                 \u001b[0msample_pred\u001b[0m\u001b[1;33m.\u001b[0m\u001b[0mappend\u001b[0m\u001b[1;33m(\u001b[0m\u001b[0mdigit_pred\u001b[0m\u001b[1;33m)\u001b[0m\u001b[1;33m\u001b[0m\u001b[0m\n\u001b[0;32m    181\u001b[0m             \u001b[0mprint\u001b[0m\u001b[1;33m(\u001b[0m\u001b[1;34m\"total loss\"\u001b[0m\u001b[1;33m,\u001b[0m\u001b[0mloss_tf\u001b[0m\u001b[1;33m)\u001b[0m\u001b[1;33m\u001b[0m\u001b[0m\n",
      "\u001b[1;31mIndexError\u001b[0m: list index out of range"
     ]
    }
   ],
   "source": [
    "import tensorflow as tf\n",
    "import random\n",
    "\n",
    "tf.reset_default_graph()\n",
    "\n",
    "\n",
    "x = tf.placeholder(tf.float32, shape=(None,54,54,3))\n",
    "length_labels = tf.placeholder(tf.int64, shape=(None,None,))\n",
    "digits_labels =  tf.placeholder(tf.int64, shape=(None,None,None))\n",
    "drop_rate=0.5\n",
    "\n",
    "with tf.variable_scope('hidden1'):\n",
    "    conv = tf.layers.conv2d(x, filters=48, kernel_size=[5, 5], padding='same')\n",
    "    norm = tf.layers.batch_normalization(conv)\n",
    "    activation = tf.nn.relu(norm)\n",
    "    pool = tf.layers.max_pooling2d(activation, pool_size=[2, 2], strides=2, padding='same')\n",
    "    hidden1 = pool  # 27 * 27 * 48\n",
    "    # print(hidden1.shape)\n",
    "\n",
    "with tf.variable_scope('hidden2'):\n",
    "    conv = tf.layers.conv2d(hidden1, filters=64, kernel_size=[5, 5], padding='same')\n",
    "    norm = tf.layers.batch_normalization(conv)\n",
    "    activation = tf.nn.relu(norm)\n",
    "    pool = tf.layers.max_pooling2d(activation, pool_size=[2, 2], strides=1, padding='same')\n",
    "    hidden2 = pool  # 27 * 27 * 64\n",
    "    # print(hidden2.shape)\n",
    "\n",
    "with tf.variable_scope('hidden3'):\n",
    "    conv = tf.layers.conv2d(hidden2, filters=128, kernel_size=[5, 5], padding='same')\n",
    "    norm = tf.layers.batch_normalization(conv)\n",
    "    activation = tf.nn.relu(norm)\n",
    "    pool = tf.layers.max_pooling2d(activation, pool_size=[2, 2], strides=2, padding='same')\n",
    "    hidden3 = pool  # 14 * 14 * 128\n",
    "    # print(hidden3.shape)\n",
    "\n",
    "with tf.variable_scope('hidden4'):\n",
    "    conv = tf.layers.conv2d(hidden3, filters=160, kernel_size=[5, 5], padding='same')\n",
    "    norm = tf.layers.batch_normalization(conv)\n",
    "    activation = tf.nn.relu(norm)\n",
    "    pool = tf.layers.max_pooling2d(activation, pool_size=[2, 2], strides=1, padding='same')\n",
    "    hidden4 = pool  # 14 * 14 *160\n",
    "    # print(hidden4.shape)\n",
    "\n",
    "with tf.variable_scope('hidden5'):\n",
    "    conv = tf.layers.conv2d(hidden4, filters=192, kernel_size=[5, 5], padding='same')\n",
    "    norm = tf.layers.batch_normalization(conv)\n",
    "    activation = tf.nn.relu(norm)\n",
    "    pool = tf.layers.max_pooling2d(activation, pool_size=[2, 2], strides=2, padding='same')\n",
    "    hidden5 = pool  # 7 * 7 * 192\n",
    "    # print(hidden5.shape)\n",
    "\n",
    "with tf.variable_scope('hidden6'):\n",
    "    conv = tf.layers.conv2d(hidden5, filters=192, kernel_size=[5, 5], padding='same')\n",
    "    norm = tf.layers.batch_normalization(conv)\n",
    "    activation = tf.nn.relu(norm)\n",
    "    pool = tf.layers.max_pooling2d(activation, pool_size=[2, 2], strides=1, padding='same')\n",
    "    hidden6 = pool  # 7 * 7 * 192\n",
    "    # print(hidden6.shape)\n",
    "\n",
    "with tf.variable_scope('hidden7'):\n",
    "    conv = tf.layers.conv2d(hidden6, filters=192, kernel_size=[5, 5], padding='same')\n",
    "    norm = tf.layers.batch_normalization(conv)\n",
    "    activation = tf.nn.relu(norm)\n",
    "    pool = tf.layers.max_pooling2d(activation, pool_size=[2, 2], strides=2, padding='same')\n",
    "    hidden7 = pool  # 4 * 4 * 192\n",
    "    # print(hidden7.shape)\n",
    "\n",
    "with tf.variable_scope('hidden8'):\n",
    "    conv = tf.layers.conv2d(hidden7, filters=192, kernel_size=[5, 5], padding='same')\n",
    "    norm = tf.layers.batch_normalization(conv)\n",
    "    activation = tf.nn.relu(norm)\n",
    "    pool = tf.layers.max_pooling2d(activation, pool_size=[2, 2], strides=1, padding='same')\n",
    "    hidden8 = pool  # 4 * 4 * 192\n",
    "\n",
    "flatten = tf.reshape(hidden8, [-1, 4 * 4 * 192])\n",
    "\n",
    "with tf.variable_scope('hidden9'):\n",
    "    dense = tf.layers.dense(flatten, units=3072, activation=tf.nn.relu)\n",
    "    dropout = tf.layers.dropout(dense, rate=drop_rate)\n",
    "    hidden9 = dropout\n",
    "\n",
    "with tf.variable_scope('hidden10'):\n",
    "    dense = tf.layers.dense(hidden9, units=3072, activation=tf.nn.relu)\n",
    "    dropout = tf.layers.dropout(dense, rate=drop_rate)\n",
    "    hidden10 = dropout\n",
    "\n",
    "with tf.variable_scope('digit_length'):\n",
    "    dense = tf.layers.dense(hidden10, units=7)\n",
    "    length = dense\n",
    "\n",
    "with tf.variable_scope('digit1'):\n",
    "    dense = tf.layers.dense(hidden10, units=11)\n",
    "    digit1 = dense\n",
    "\n",
    "with tf.variable_scope('digit2'):\n",
    "    dense = tf.layers.dense(hidden10, units=11)\n",
    "    digit2 = dense\n",
    "\n",
    "with tf.variable_scope('digit3'):\n",
    "    dense = tf.layers.dense(hidden10, units=11)\n",
    "    digit3 = dense\n",
    "\n",
    "with tf.variable_scope('digit4'):\n",
    "    dense = tf.layers.dense(hidden10, units=11)\n",
    "    digit4 = dense\n",
    "\n",
    "with tf.variable_scope('digit5'):\n",
    "    dense = tf.layers.dense(hidden10, units=11)\n",
    "    digit5 = dense\n",
    "\n",
    "length_logits, digits_logits = length, tf.stack([digit1, digit2, digit3, digit4, digit5], axis=1)\n",
    "\n",
    "# length_labels = tf.one_hot(length_labels, 7)\n",
    "# print(length_logits.shape, length_labels.shape)\n",
    "length_cross_entropy = tf.reduce_mean(\n",
    "    tf.nn.softmax_cross_entropy_with_logits (labels=length_labels, logits=length_logits))\n",
    "digit1_cross_entropy = tf.reduce_mean(\n",
    "    tf.nn.softmax_cross_entropy_with_logits (labels=digits_labels[:, 0], logits=digits_logits[:, 0, :]))\n",
    "digit2_cross_entropy = tf.reduce_mean(\n",
    "    tf.nn.softmax_cross_entropy_with_logits (labels=digits_labels[:, 1], logits=digits_logits[:, 1, :]))\n",
    "digit3_cross_entropy = tf.reduce_mean(\n",
    "    tf.nn.softmax_cross_entropy_with_logits (labels=digits_labels[:, 2], logits=digits_logits[:, 2, :]))\n",
    "digit4_cross_entropy = tf.reduce_mean(\n",
    "    tf.nn.softmax_cross_entropy_with_logits (labels=digits_labels[:, 3], logits=digits_logits[:, 3, :]))\n",
    "digit5_cross_entropy = tf.reduce_mean(\n",
    "    tf.nn.softmax_cross_entropy_with_logits (labels=digits_labels[:, 4], logits=digits_logits[:, 4, :]))\n",
    "loss = length_cross_entropy + digit1_cross_entropy + digit2_cross_entropy + digit3_cross_entropy + digit4_cross_entropy + digit5_cross_entropy\n",
    "\n",
    "train_step = tf.train.AdamOptimizer(1e-6).minimize(loss)\n",
    "#d1 = tf.argmax(digit2, axis=1) it was before down init\n",
    "\n",
    "p_l =tf.log(tf.nn.softmax(length,axis=1))\n",
    "p_d1=tf.log(tf.nn.softmax(digit1,axis=1))\n",
    "p_d2=tf.log(tf.nn.softmax(digit2,axis=1))\n",
    "p_d3=tf.log(tf.nn.softmax(digit3,axis=1))\n",
    "p_d4=tf.log(tf.nn.softmax(digit4,axis=1))\n",
    "p_d5=tf.log(tf.nn.softmax(digit5,axis=1))\n",
    "\n",
    "digit_probs = [p_d1,p_d2,p_d3,p_d4,p_d5]\n",
    "ps0 = tf.add_n([p_l[:,0]])\n",
    "ps1= tf.add_n([p_l[:,1],tf.reduce_max(p_d1,axis = 1)])\n",
    "ps2= tf.add_n([p_l[:,2],tf.reduce_max(p_d1,axis = 1),tf.reduce_max(p_d2,axis = 1)])\n",
    "ps3= tf.add_n([p_l[:,3],tf.reduce_max(p_d1,axis = 1),tf.reduce_max(p_d2,axis = 1),tf.reduce_max(p_d3,axis = 1)])\n",
    "ps4= tf.add_n([p_l[:,4],tf.reduce_max(p_d1,axis = 1),tf.reduce_max(p_d2,axis = 1),tf.reduce_max(p_d3,axis = 1),tf.reduce_max(p_d4,axis = 1)])\n",
    "ps5= tf.add_n([p_l[:,5],tf.reduce_max(p_d1,axis = 1),tf.reduce_max(p_d2,axis = 1),tf.reduce_max(p_d3,axis = 1),tf.reduce_max(p_d4,axis = 1),tf.reduce_max(p_d5,axis = 1)])\n",
    "ps6= tf.add_n([p_l[:,6],tf.reduce_max(p_d1,axis = 1),tf.reduce_max(p_d2,axis = 1),tf.reduce_max(p_d3,axis = 1),tf.reduce_max(p_d4,axis = 1),tf.reduce_max(p_d5,axis = 1)])\n",
    "\n",
    "ps = tf.stack([ps0,ps1, ps2, ps3, ps4, ps5,ps6], axis=1)\n",
    "length =tf.argmax(ps,axis=1)\n",
    "pred=[]\n",
    "d1 = tf.argmax(digit1, axis=1)\n",
    "d2 = tf.argmax(digit2, axis=1)\n",
    "d3 = tf.argmax(digit3, axis=1)\n",
    "d4 = tf.argmax(digit4, axis=1)\n",
    "d5 = tf.argmax(digit5, axis=1)\n",
    "digits = [d1,d2,d3,d4,d5]\n",
    "#for l in range(length[0]):\n",
    " #   pred.append(digits[l])\n",
    "    \n",
    "    \n",
    "num_train = 500\n",
    "batch_size = 32\n",
    "num_batch = num_train//batch_size\n",
    "init = tf.initialize_all_variables()\n",
    "with tf.Session() as sess:\n",
    "    sess.run(init)\n",
    "    for e in range(100):\n",
    "        for i in range(num_batch):\n",
    "            choice=np.random.choice(num_train, size=batch_size, replace=False)\n",
    "            batch_x, batch_digits, batch_length = Pic_crop_Final1[choice], thats_hot1[choice], hot_length1[choice]\n",
    "            sess.run(train_step, feed_dict={x:batch_x , length_labels:batch_length ,digits_labels:batch_digits})          \n",
    "            length_tf,d1_tf,d2_tf,d3_tf,d4_tf,d5_tf = sess.run([length,d1,d2,d3,d4,d5], feed_dict={x:Pic_crop_Final[0:3].reshape(3,54,54,3)})\n",
    "            digits = [d1_tf,d2_tf,d3_tf,d4_tf,d5_tf,d5_tf]\n",
    "            sample_pred=[]\n",
    "            \n",
    "            for i in range(len(d1_tf)):\n",
    "                digit_pred=[]\n",
    "                for j in range(length_tf[i]):\n",
    "                    digit_pred.append(digits[j][i])\n",
    "                sample_pred.append(digit_pred)\n",
    "            print(\"total loss\",loss_tf)\n",
    "            print(\"first digit\",sample_pred)"
   ]
  },
  {
   "cell_type": "code",
   "execution_count": 224,
   "metadata": {},
   "outputs": [
    {
     "ename": "IndexError",
     "evalue": "list assignment index out of range",
     "output_type": "error",
     "traceback": [
      "\u001b[1;31m---------------------------------------------------------------------------\u001b[0m",
      "\u001b[1;31mIndexError\u001b[0m                                Traceback (most recent call last)",
      "\u001b[1;32m<ipython-input-224-290e549cb5d9>\u001b[0m in \u001b[0;36m<module>\u001b[1;34m()\u001b[0m\n\u001b[1;32m----> 1\u001b[1;33m \u001b[0mpred\u001b[0m\u001b[1;33m[\u001b[0m\u001b[1;36m0\u001b[0m\u001b[1;33m]\u001b[0m\u001b[1;33m[\u001b[0m\u001b[1;36m0\u001b[0m\u001b[1;33m]\u001b[0m\u001b[1;33m=\u001b[0m\u001b[1;36m1\u001b[0m\u001b[1;33m\u001b[0m\u001b[0m\n\u001b[0m",
      "\u001b[1;31mIndexError\u001b[0m: list assignment index out of range"
     ]
    }
   ],
   "source": [
    "pred[0]=1"
   ]
  },
  {
   "cell_type": "code",
   "execution_count": 225,
   "metadata": {},
   "outputs": [],
   "source": [
    "pred=[[[]]]*len(d1_tf)"
   ]
  },
  {
   "cell_type": "code",
   "execution_count": 76,
   "metadata": {},
   "outputs": [
    {
     "name": "stdout",
     "output_type": "stream",
     "text": [
      "Tensor(\"digit_length/dense/BiasAdd:0\", shape=(?, 7), dtype=float32)\n"
     ]
    }
   ],
   "source": [
    "total_prob=tf.zeros_like(p_l)\n",
    "for i in range(1,5):\n",
    "    for l in range(i+1):\n",
    "        total_prob[:,i]=(p_l[:,i]+tf.reduce_max(digit_probs[:,i],axis =1))\n",
    "pred_length = np.argmax(total_prob)\n",
    "\n",
    "pred=[]\n",
    "d1 = tf.argmax(digit1, axis=1)\n",
    "d2 = tf.argmax(digit2, axis=1)\n",
    "d3 = tf.argmax(digit3, axis=1)\n",
    "d4 = tf.argmax(digit4, axis=1)\n",
    "d5 = tf.argmax(digit5, axis=1)\n",
    "digits = [d1,d2,d3,d4,d5]\n",
    "for l in range(pred_length):\n",
    "    pred.append(digits[l])"
   ]
  },
  {
   "cell_type": "code",
   "execution_count": 228,
   "metadata": {},
   "outputs": [
    {
     "data": {
      "text/plain": [
       "[]"
      ]
     },
     "execution_count": 228,
     "metadata": {},
     "output_type": "execute_result"
    }
   ],
   "source": []
  },
  {
   "cell_type": "code",
   "execution_count": 198,
   "metadata": {},
   "outputs": [
    {
     "data": {
      "text/plain": [
       "(2, 54, 54, 3)"
      ]
     },
     "execution_count": 198,
     "metadata": {},
     "output_type": "execute_result"
    }
   ],
   "source": [
    "a.shape"
   ]
  },
  {
   "cell_type": "code",
   "execution_count": 178,
   "metadata": {},
   "outputs": [
    {
     "data": {
      "text/plain": [
       "9"
      ]
     },
     "execution_count": 178,
     "metadata": {},
     "output_type": "execute_result"
    }
   ],
   "source": [
    "pred[1][0]"
   ]
  },
  {
   "cell_type": "code",
   "execution_count": 206,
   "metadata": {},
   "outputs": [
    {
     "data": {
      "text/plain": [
       "<matplotlib.image.AxesImage at 0x1afbceae7b8>"
      ]
     },
     "execution_count": 206,
     "metadata": {},
     "output_type": "execute_result"
    },
    {
     "data": {
      "image/png": "[encoded data removed]",
      "text/plain": [
       "<Figure size 432x288 with 1 Axes>"
      ]
     },
     "metadata": {
      "needs_background": "light"
     },
     "output_type": "display_data"
    }
   ],
   "source": [
    "plt.imshow(Pic_crop_Final1[2])"
   ]
  }
 ],
 "metadata": {
  "kernelspec": {
   "display_name": "Python 3",
   "language": "python",
   "name": "python3"
  },
  "language_info": {
   "codemirror_mode": {
    "name": "ipython",
    "version": 3
   },
   "file_extension": ".py",
   "mimetype": "text/x-python",
   "name": "python",
   "nbconvert_exporter": "python",
   "pygments_lexer": "ipython3",
   "version": "3.6.6"
  },
  "varInspector": {
   "cols": {
    "lenName": 16,
    "lenType": 16,
    "lenVar": 40
   },
   "kernels_config": {
    "python": {
     "delete_cmd_postfix": "",
     "delete_cmd_prefix": "del ",
     "library": "var_list.py",
     "varRefreshCmd": "print(var_dic_list())"
    },
    "r": {
     "delete_cmd_postfix": ") ",
     "delete_cmd_prefix": "rm(",
     "library": "var_list.r",
     "varRefreshCmd": "cat(var_dic_list()) "
    }
   },
   "oldHeight": 506.41622199999995,
   "position": {
    "height": "40px",
    "left": "845.653px",
    "right": "20px",
    "top": "55px",
    "width": "704.181px"
   },
   "types_to_exclude": [
    "module",
    "function",
    "builtin_function_or_method",
    "instance",
    "_Feature"
   ],
   "varInspector_section_display": "none",
   "window_display": true
  }
 },
 "nbformat": 4,
 "nbformat_minor": 2
}
